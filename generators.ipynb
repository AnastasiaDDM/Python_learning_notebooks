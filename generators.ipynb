{
  "nbformat": 4,
  "nbformat_minor": 0,
  "metadata": {
    "colab": {
      "provenance": []
    },
    "kernelspec": {
      "name": "python3",
      "display_name": "Python 3"
    },
    "language_info": {
      "name": "python"
    }
  },
  "cells": [
    {
      "cell_type": "markdown",
      "source": [
        "# Генераторы\n",
        "Марк Лутц \"Изучаем Python\", том 1, глава 20.\n",
        "\n",
        "\n",
        "\n",
        "---\n",
        "\n",
        "\n",
        "\n",
        "В Python списковые включения и генераторы - замечательные механизмы, способные серьезно упрощать программный код.\n",
        "\n",
        "Генераторы позволяют приостановить или продолжить работы. Генератор возвращает итератор, по которому можно проходить пошагово, получая доступ к одному значению с каждой итерацией.\n",
        "\n",
        "Есть две языковые конструкции реализующие генераторы:\n",
        "\n",
        "*   **Генераторные функции** (доступные, начиная с версии Python 2.3) записываются как нормальные операторы *def*, но в них применяются операторы *yield*, чтобы возвращать по одному результату за раз, приостанавливать выполнение с сохранением состояния и возобновлять его между выдачами.\n",
        "*   **Генераторные выражения** (доступные, начиная с версии Python 2.4) похожи на списковые включения, описанные в предыдущем докладе, но они не строят результирующий список, а возвращают объекты, которые производят результаты\n",
        "по запросу.\n",
        "\n",
        "Из-за того, что ни та, ни другая конструкция не создает сразу весь результирующий список, они экономят пространство памяти и позволяют распределить время вычислений по запросам результатов.\n",
        "\n",
        "\n",
        "\n",
        "\n",
        "\n"
      ],
      "metadata": {
        "id": "o_FAKOsxThOO"
      }
    },
    {
      "cell_type": "markdown",
      "source": [
        "## Генераторные функции\n",
        "\n",
        "Генераторные функции во многих отношениях похожи на обычные функции и\n",
        "фактически записываются с помощью обычных операторов. Однако при их создании они специально компилируются в объект, который поддерживает протокол итерации. Когда генераторные функции вызываются, они возвращают не результат, а генератор результатов, который может появляться в любом итерационном контексте.\n",
        "Основным отличием генераторных функций от обычных является оператор *yield*."
      ],
      "metadata": {
        "id": "ch3-76uS9zvO"
      }
    },
    {
      "cell_type": "code",
      "source": [
        "# Генераторная функция\n",
        "def gensquares(N):\n",
        "  for i in range(N):\n",
        "    yield i**2 # Позже возобновить здесь выполнение\n",
        "\n",
        "for i in gensquares(5): # Возобновление выполнения функции\n",
        "  print(i, end=' : ') # Вывод последнего выданного значения"
      ],
      "metadata": {
        "id": "RIVCQ-v7EwBs",
        "colab": {
          "base_uri": "https://localhost:8080/"
        },
        "outputId": "b4ba141b-3a8c-4b90-fa8e-ae7935dcaec3"
      },
      "execution_count": null,
      "outputs": [
        {
          "output_type": "stream",
          "name": "stdout",
          "text": [
            "0 : 1 : 4 : 9 : 16 : "
          ]
        }
      ]
    },
    {
      "cell_type": "code",
      "source": [
        "x = gensquares(5)\n",
        "x"
      ],
      "metadata": {
        "colab": {
          "base_uri": "https://localhost:8080/"
        },
        "id": "_a0Tp6oDG90R",
        "outputId": "ac118e54-b282-4243-9b54-516ff471c547"
      },
      "execution_count": null,
      "outputs": [
        {
          "output_type": "execute_result",
          "data": {
            "text/plain": [
              "<generator object gensquares at 0x7fda57e18750>"
            ]
          },
          "metadata": {},
          "execution_count": 179
        }
      ]
    },
    {
      "cell_type": "code",
      "source": [
        "next(x)"
      ],
      "metadata": {
        "colab": {
          "base_uri": "https://localhost:8080/",
          "height": 166
        },
        "id": "IacDnsQUHqd-",
        "outputId": "22897cba-5923-4717-8333-10f30679b1f3"
      },
      "execution_count": null,
      "outputs": [
        {
          "output_type": "error",
          "ename": "TypeError",
          "evalue": "ignored",
          "traceback": [
            "\u001b[0;31m---------------------------------------------------------------------------\u001b[0m",
            "\u001b[0;31mTypeError\u001b[0m                                 Traceback (most recent call last)",
            "\u001b[0;32m<ipython-input-184-92de4e9f6b1e>\u001b[0m in \u001b[0;36m<module>\u001b[0;34m\u001b[0m\n\u001b[0;32m----> 1\u001b[0;31m \u001b[0mnext\u001b[0m\u001b[0;34m(\u001b[0m\u001b[0mx\u001b[0m\u001b[0;34m)\u001b[0m\u001b[0;34m\u001b[0m\u001b[0;34m\u001b[0m\u001b[0m\n\u001b[0m",
            "\u001b[0;31mTypeError\u001b[0m: 'int' object is not an iterator"
          ]
        }
      ]
    },
    {
      "cell_type": "code",
      "execution_count": null,
      "metadata": {
        "colab": {
          "base_uri": "https://localhost:8080/",
          "height": 166
        },
        "id": "AD_k1LS50yCx",
        "outputId": "b0daf799-b2be-431d-d624-8e2a299e9c6c"
      },
      "outputs": [
        {
          "output_type": "error",
          "ename": "StopIteration",
          "evalue": "ignored",
          "traceback": [
            "\u001b[0;31m---------------------------------------------------------------------------\u001b[0m",
            "\u001b[0;31mStopIteration\u001b[0m                             Traceback (most recent call last)",
            "\u001b[0;32m<ipython-input-172-e717e1c1f535>\u001b[0m in \u001b[0;36m<module>\u001b[0;34m\u001b[0m\n\u001b[0;32m----> 1\u001b[0;31m \u001b[0mx\u001b[0m\u001b[0;34m.\u001b[0m\u001b[0m__next__\u001b[0m\u001b[0;34m(\u001b[0m\u001b[0;34m)\u001b[0m\u001b[0;34m\u001b[0m\u001b[0;34m\u001b[0m\u001b[0m\n\u001b[0m",
            "\u001b[0;31mStopIteration\u001b[0m: "
          ]
        }
      ],
      "source": [
        "x.__next__()"
      ]
    },
    {
      "cell_type": "markdown",
      "source": [
        "### Для чего используются генераторные функции?\n",
        "\n",
        "Реализация логики из предыдущей генераторной функции на других конструкциях:"
      ],
      "metadata": {
        "id": "qlzZRwR5bmX5"
      }
    },
    {
      "cell_type": "code",
      "source": [
        "# Обычная функция\n",
        "def buildsquares(n):\n",
        "  res = []\n",
        "  for i in range(n):\n",
        "    res.append(i ** 2)\n",
        "  return res\n",
        "\n",
        "for x in buildsquares(5):\n",
        "  print(x, end=\" : \")"
      ],
      "metadata": {
        "colab": {
          "base_uri": "https://localhost:8080/"
        },
        "id": "KjTpK4iGb_Tv",
        "outputId": "b1e7d637-2002-4937-8df0-3dcc167859ac"
      },
      "execution_count": null,
      "outputs": [
        {
          "output_type": "stream",
          "name": "stdout",
          "text": [
            "0 : 1 : 4 : 9 : 16 : "
          ]
        }
      ]
    },
    {
      "cell_type": "code",
      "source": [
        "# Функция map (аналогичный код)\n",
        "for x in map((lambda n: n**2), range(5)):\n",
        "  print(x, end=\" : \")"
      ],
      "metadata": {
        "colab": {
          "base_uri": "https://localhost:8080/"
        },
        "id": "MElLQrUdcvPr",
        "outputId": "22361ea6-3771-4931-cbe7-df7e6e019723"
      },
      "execution_count": null,
      "outputs": [
        {
          "output_type": "stream",
          "name": "stdout",
          "text": [
            "0 : 1 : 4 : 9 : 16 : "
          ]
        }
      ]
    },
    {
      "cell_type": "markdown",
      "source": [
        "В крупных программах генераторы могут быть лучше в плане памяти\n",
        "и производительности. Они позволяют функциям избежать выполнения всей работы\n",
        "заранее, что особенно полезно, когда результирующие списки большие или получение\n",
        "каждого значения требует длительных вычислений. Генераторы распределяют время,\n",
        "необходимое для производства серии значений, по всем итерациям цикла.\n",
        "\n",
        "Кроме того, для усложненных сценариев генераторы способны предложить более простую альтернативу ручному сохранению состояния между итерациями в объектах классов — генераторы обеспечивают автоматическое сохранение и\n",
        "восстановление переменных, доступных в области видимости функций."
      ],
      "metadata": {
        "id": "GTF5isXseXev"
      }
    },
    {
      "cell_type": "markdown",
      "source": [
        "### Метод *send()*\n",
        "\n",
        "В версии Python 2.5 к протоколу генераторных функций был добавлен метод *send*.\n",
        "Он осуществляет переход на следующий элемент в серии результатов, в точности как\n",
        "__next __, но также снабжает вызывающий код возможностью взаимодействия с генератором для влияния на его работу."
      ],
      "metadata": {
        "id": "KRbX2OvsfxjA"
      }
    },
    {
      "cell_type": "code",
      "source": [
        "def gen():\n",
        "  for i in range(10):\n",
        "    print('i1 = ' + str(i))\n",
        "    x = yield i\n",
        "    print('x = ' + str(x))\n",
        "    print('i2 = ' + str(i))\n",
        "G = gen()"
      ],
      "metadata": {
        "id": "OCWzxzc3FhpO"
      },
      "execution_count": null,
      "outputs": []
    },
    {
      "cell_type": "markdown",
      "source": [
        "Формально *yield* теперь имеет форму не оператора, а выражения, которое возвращает элемент, переданный *send*.\n",
        "\n",
        "Метод *send* можно применять, например, для написания генератора, который\n",
        "разрешает прекращать свою работу за счет отправки кода завершения, либо изменять\n",
        "направление путем передачи новой позиции в данных, обрабатываемых внутри генератора."
      ],
      "metadata": {
        "id": "-n2Q2YrNGHLv"
      }
    },
    {
      "cell_type": "code",
      "source": [
        "G.send(77)"
      ],
      "metadata": {
        "colab": {
          "base_uri": "https://localhost:8080/",
          "height": 166
        },
        "id": "AzTaUpYXVmoJ",
        "outputId": "1b8495e5-fd9a-4b26-dee6-b36e7350d870"
      },
      "execution_count": null,
      "outputs": [
        {
          "output_type": "error",
          "ename": "TypeError",
          "evalue": "ignored",
          "traceback": [
            "\u001b[0;31m---------------------------------------------------------------------------\u001b[0m",
            "\u001b[0;31mTypeError\u001b[0m                                 Traceback (most recent call last)",
            "\u001b[0;32m<ipython-input-188-dfa89530d539>\u001b[0m in \u001b[0;36m<module>\u001b[0;34m\u001b[0m\n\u001b[0;32m----> 1\u001b[0;31m \u001b[0mG\u001b[0m\u001b[0;34m.\u001b[0m\u001b[0msend\u001b[0m\u001b[0;34m(\u001b[0m\u001b[0;36m77\u001b[0m\u001b[0;34m)\u001b[0m\u001b[0;34m\u001b[0m\u001b[0;34m\u001b[0m\u001b[0m\n\u001b[0m",
            "\u001b[0;31mTypeError\u001b[0m: can't send non-None value to a just-started generator"
          ]
        }
      ]
    },
    {
      "cell_type": "code",
      "source": [
        "next(G) # Сначала должен вызываться next() , чтобы запустить генератор"
      ],
      "metadata": {
        "colab": {
          "base_uri": "https://localhost:8080/"
        },
        "id": "qS8vd56SFysc",
        "outputId": "efd0d84e-7c55-464b-f168-3529e6793b84"
      },
      "execution_count": null,
      "outputs": [
        {
          "output_type": "stream",
          "name": "stdout",
          "text": [
            "x = None\n",
            "i2 = 0\n",
            "i1 = 1\n"
          ]
        },
        {
          "output_type": "execute_result",
          "data": {
            "text/plain": [
              "1"
            ]
          },
          "metadata": {},
          "execution_count": 190
        }
      ]
    },
    {
      "cell_type": "code",
      "source": [
        "G.send(77)"
      ],
      "metadata": {
        "colab": {
          "base_uri": "https://localhost:8080/"
        },
        "id": "UUXw1n8hF0lz",
        "outputId": "108155f9-944d-49fd-bc93-70797b312725"
      },
      "execution_count": null,
      "outputs": [
        {
          "output_type": "stream",
          "name": "stdout",
          "text": [
            "x = 77\n",
            "i2 = 1\n",
            "i1 = 2\n"
          ]
        },
        {
          "output_type": "execute_result",
          "data": {
            "text/plain": [
              "2"
            ]
          },
          "metadata": {},
          "execution_count": 191
        }
      ]
    },
    {
      "cell_type": "code",
      "source": [
        "G.send(88)"
      ],
      "metadata": {
        "colab": {
          "base_uri": "https://localhost:8080/"
        },
        "id": "6ECVlQ0wF2CG",
        "outputId": "45d7d51a-2e4c-4e77-c299-fac3aaa5ad04"
      },
      "execution_count": null,
      "outputs": [
        {
          "output_type": "stream",
          "name": "stdout",
          "text": [
            "x = 88\n",
            "i2 = 2\n",
            "i1 = 3\n"
          ]
        },
        {
          "output_type": "execute_result",
          "data": {
            "text/plain": [
              "3"
            ]
          },
          "metadata": {},
          "execution_count": 192
        }
      ]
    },
    {
      "cell_type": "code",
      "source": [
        "next(G)"
      ],
      "metadata": {
        "id": "LvphoQ-OF33U",
        "colab": {
          "base_uri": "https://localhost:8080/"
        },
        "outputId": "1c3bba04-5022-4242-9b53-77f263ec13b1"
      },
      "execution_count": null,
      "outputs": [
        {
          "output_type": "stream",
          "name": "stdout",
          "text": [
            "x = None\n",
            "i2 = 6\n",
            "i1 = 7\n"
          ]
        },
        {
          "output_type": "execute_result",
          "data": {
            "text/plain": [
              "7"
            ]
          },
          "metadata": {},
          "execution_count": 196
        }
      ]
    },
    {
      "cell_type": "markdown",
      "source": [
        "### Расширение *from*\n",
        "Также следует отметить, что в Python 3.3 было введено расширение *yield* — конструкция *from*, которая позволяет генераторам делегировать работу вложенным генераторам."
      ],
      "metadata": {
        "id": "Lgv7-rlQz9J3"
      }
    },
    {
      "cell_type": "code",
      "source": [
        "# с использованием цикла for\n",
        "def iter_for():\n",
        "  for x in range(3):\n",
        "    yield x\n",
        "\n",
        "for i in iter_for():\n",
        "  print(i)"
      ],
      "metadata": {
        "colab": {
          "base_uri": "https://localhost:8080/"
        },
        "id": "knOlIzPe1Sia",
        "outputId": "c2b0a195-a050-4fdb-9f40-0fd209262c64"
      },
      "execution_count": null,
      "outputs": [
        {
          "output_type": "stream",
          "name": "stdout",
          "text": [
            "0\n",
            "1\n",
            "2\n"
          ]
        }
      ]
    },
    {
      "cell_type": "code",
      "source": [
        "# с использованием from\n",
        "def iter_from():\n",
        "  yield from [0, 1, 2]\n",
        "\n",
        "for i in iter_from():\n",
        "  print(i)"
      ],
      "metadata": {
        "colab": {
          "base_uri": "https://localhost:8080/"
        },
        "id": "ONs6XStE0kxU",
        "outputId": "92f4853b-e24b-4c60-cfe5-ded1b5e818f1"
      },
      "execution_count": null,
      "outputs": [
        {
          "output_type": "stream",
          "name": "stdout",
          "text": [
            "0\n",
            "1\n",
            "2\n"
          ]
        }
      ]
    },
    {
      "cell_type": "code",
      "source": [
        "def iter_from():\n",
        "  yield from [0, 1, 2]\n",
        "iters = iter_from()"
      ],
      "metadata": {
        "id": "zHgxfNsv0veq"
      },
      "execution_count": null,
      "outputs": []
    },
    {
      "cell_type": "code",
      "source": [
        "next(iters)"
      ],
      "metadata": {
        "colab": {
          "base_uri": "https://localhost:8080/",
          "height": 166
        },
        "id": "6oQDTFAx0wAT",
        "outputId": "3d2b5a9c-1b61-482b-b9ce-d9a5a7d5e34c"
      },
      "execution_count": null,
      "outputs": [
        {
          "output_type": "error",
          "ename": "StopIteration",
          "evalue": "ignored",
          "traceback": [
            "\u001b[0;31m---------------------------------------------------------------------------\u001b[0m",
            "\u001b[0;31mStopIteration\u001b[0m                             Traceback (most recent call last)",
            "\u001b[0;32m<ipython-input-203-809c2433a208>\u001b[0m in \u001b[0;36m<module>\u001b[0;34m\u001b[0m\n\u001b[0;32m----> 1\u001b[0;31m \u001b[0mnext\u001b[0m\u001b[0;34m(\u001b[0m\u001b[0miters\u001b[0m\u001b[0;34m)\u001b[0m\u001b[0;34m\u001b[0m\u001b[0;34m\u001b[0m\u001b[0m\n\u001b[0m",
            "\u001b[0;31mStopIteration\u001b[0m: "
          ]
        }
      ]
    },
    {
      "cell_type": "code",
      "source": [
        "# с использованием from и спискового включения\n",
        "def iter_from():\n",
        "  yield from [x for x in range(3)]\n",
        "\n",
        "for i in iter_from():\n",
        "  print(i)"
      ],
      "metadata": {
        "colab": {
          "base_uri": "https://localhost:8080/"
        },
        "id": "ybGodSb5z1AM",
        "outputId": "4cd3ddcc-9bc5-4293-c58e-02b9f31abfa9"
      },
      "execution_count": null,
      "outputs": [
        {
          "output_type": "stream",
          "name": "stdout",
          "text": [
            "0\n",
            "1\n",
            "2\n"
          ]
        }
      ]
    },
    {
      "cell_type": "markdown",
      "source": [
        "### Дополнительные методы *close()* и *throw()*\n",
        "*.close()* — останавливает выполнение генератора;\n",
        "\n",
        "*.throw()* — генератор бросает исключение."
      ],
      "metadata": {
        "id": "MDuzelYZ7N9N"
      }
    },
    {
      "cell_type": "code",
      "source": [
        "def f_gen():\n",
        "  n = 1\n",
        "  while True:\n",
        "    yield n**2\n",
        "    n += 1\n",
        "  \n",
        "generator1 = f_gen()\n",
        "generator2 = f_gen()\n",
        "\n",
        "for i in generator1:\n",
        "  print(i)\n",
        "  if i > 10:\n",
        "    generator1.close()\n",
        "\n",
        "print('\\n')\n",
        "\n",
        "for i in generator2:\n",
        "  print(i)\n",
        "  if i > 10:\n",
        "    generator2.throw(Exception(\"Конец!\"))"
      ],
      "metadata": {
        "colab": {
          "base_uri": "https://localhost:8080/",
          "height": 496
        },
        "id": "_byHBfA_7dW1",
        "outputId": "585aa37c-5025-4a62-f0c3-a457a2a0a9b8"
      },
      "execution_count": null,
      "outputs": [
        {
          "output_type": "stream",
          "name": "stdout",
          "text": [
            "1\n",
            "4\n",
            "9\n",
            "16\n",
            "\n",
            "\n",
            "1\n",
            "4\n",
            "9\n",
            "16\n"
          ]
        },
        {
          "output_type": "error",
          "ename": "Exception",
          "evalue": "ignored",
          "traceback": [
            "\u001b[0;31m---------------------------------------------------------------------------\u001b[0m",
            "\u001b[0;31mException\u001b[0m                                 Traceback (most recent call last)",
            "\u001b[0;32m<ipython-input-205-af9f9597110a>\u001b[0m in \u001b[0;36m<module>\u001b[0;34m\u001b[0m\n\u001b[1;32m     18\u001b[0m   \u001b[0mprint\u001b[0m\u001b[0;34m(\u001b[0m\u001b[0mi\u001b[0m\u001b[0;34m)\u001b[0m\u001b[0;34m\u001b[0m\u001b[0;34m\u001b[0m\u001b[0m\n\u001b[1;32m     19\u001b[0m   \u001b[0;32mif\u001b[0m \u001b[0mi\u001b[0m \u001b[0;34m>\u001b[0m \u001b[0;36m10\u001b[0m\u001b[0;34m:\u001b[0m\u001b[0;34m\u001b[0m\u001b[0;34m\u001b[0m\u001b[0m\n\u001b[0;32m---> 20\u001b[0;31m     \u001b[0mgenerator2\u001b[0m\u001b[0;34m.\u001b[0m\u001b[0mthrow\u001b[0m\u001b[0;34m(\u001b[0m\u001b[0mException\u001b[0m\u001b[0;34m(\u001b[0m\u001b[0;34m\"Конец!\"\u001b[0m\u001b[0;34m)\u001b[0m\u001b[0;34m)\u001b[0m\u001b[0;34m\u001b[0m\u001b[0;34m\u001b[0m\u001b[0m\n\u001b[0m",
            "\u001b[0;32m<ipython-input-205-af9f9597110a>\u001b[0m in \u001b[0;36mf_gen\u001b[0;34m()\u001b[0m\n\u001b[1;32m      2\u001b[0m   \u001b[0mn\u001b[0m \u001b[0;34m=\u001b[0m \u001b[0;36m1\u001b[0m\u001b[0;34m\u001b[0m\u001b[0;34m\u001b[0m\u001b[0m\n\u001b[1;32m      3\u001b[0m   \u001b[0;32mwhile\u001b[0m \u001b[0;32mTrue\u001b[0m\u001b[0;34m:\u001b[0m\u001b[0;34m\u001b[0m\u001b[0;34m\u001b[0m\u001b[0m\n\u001b[0;32m----> 4\u001b[0;31m     \u001b[0;32myield\u001b[0m \u001b[0mn\u001b[0m\u001b[0;34m**\u001b[0m\u001b[0;36m2\u001b[0m\u001b[0;34m\u001b[0m\u001b[0;34m\u001b[0m\u001b[0m\n\u001b[0m\u001b[1;32m      5\u001b[0m     \u001b[0mn\u001b[0m \u001b[0;34m+=\u001b[0m \u001b[0;36m1\u001b[0m\u001b[0;34m\u001b[0m\u001b[0;34m\u001b[0m\u001b[0m\n\u001b[1;32m      6\u001b[0m \u001b[0;34m\u001b[0m\u001b[0m\n",
            "\u001b[0;31mException\u001b[0m: Конец!"
          ]
        }
      ]
    },
    {
      "cell_type": "markdown",
      "source": [
        "## Генераторные выражения\n",
        "\n",
        "Из-за того, что отложенные вычисления генераторных функций оказались настолько удобными, со временем они распространились на другие инструменты. В Python 2.Х и З.Х понятия итерируемых объектов и списковых включений были объединены в новый инструмент — генераторные выражения. Синтаксически генераторные выражения похожи на нормальные списковые включения и поддерживают весь их синтаксис, в том числе фильтры if и вложение циклов, но они помещаются в круглые скобки, а не в квадратные."
      ],
      "metadata": {
        "id": "rXodoizc9NFk"
      }
    },
    {
      "cell_type": "code",
      "source": [
        "print([х**2 for х in range(4)]) # Списковое включение: строит список [О, 1, 4, 9]\n",
        "\n",
        "print((х**2 for х in range(4))) # Генераторное выражение:создает итерируемый объект"
      ],
      "metadata": {
        "colab": {
          "base_uri": "https://localhost:8080/"
        },
        "id": "ngBnhd7f9uYJ",
        "outputId": "5701d6a6-4373-421c-8118-7883fdd7a2d5"
      },
      "execution_count": null,
      "outputs": [
        {
          "output_type": "stream",
          "name": "stdout",
          "text": [
            "[0, 1, 4, 9]\n",
            "<generator object <genexpr> at 0x7fda4f5631d0>\n"
          ]
        }
      ]
    },
    {
      "cell_type": "code",
      "source": [
        "G = (х**2 for х in range(4))"
      ],
      "metadata": {
        "id": "mbzQLQYB-co9"
      },
      "execution_count": null,
      "outputs": []
    },
    {
      "cell_type": "code",
      "source": [
        "next(G)"
      ],
      "metadata": {
        "colab": {
          "base_uri": "https://localhost:8080/",
          "height": 166
        },
        "id": "9qgl7FlmBx2F",
        "outputId": "93181a70-5663-456a-ba0f-905ae32ea797"
      },
      "execution_count": null,
      "outputs": [
        {
          "output_type": "error",
          "ename": "StopIteration",
          "evalue": "ignored",
          "traceback": [
            "\u001b[0;31m---------------------------------------------------------------------------\u001b[0m",
            "\u001b[0;31mStopIteration\u001b[0m                             Traceback (most recent call last)",
            "\u001b[0;32m<ipython-input-212-b4d1fcb0baf1>\u001b[0m in \u001b[0;36m<module>\u001b[0;34m\u001b[0m\n\u001b[0;32m----> 1\u001b[0;31m \u001b[0mnext\u001b[0m\u001b[0;34m(\u001b[0m\u001b[0mG\u001b[0m\u001b[0;34m)\u001b[0m\u001b[0;34m\u001b[0m\u001b[0;34m\u001b[0m\u001b[0m\n\u001b[0m",
            "\u001b[0;31mStopIteration\u001b[0m: "
          ]
        }
      ]
    },
    {
      "cell_type": "code",
      "source": [
        "''.join(х.upper() for х in 'ааа,bbb,ссс'.split(','))"
      ],
      "metadata": {
        "colab": {
          "base_uri": "https://localhost:8080/",
          "height": 35
        },
        "id": "g774wIotC76I",
        "outputId": "b8f89f44-2ff6-48de-c1ab-806dd8470ed4"
      },
      "execution_count": null,
      "outputs": [
        {
          "output_type": "execute_result",
          "data": {
            "text/plain": [
              "'АААBBBССС'"
            ],
            "application/vnd.google.colaboratory.intrinsic+json": {
              "type": "string"
            }
          },
          "metadata": {},
          "execution_count": 213
        }
      ]
    },
    {
      "cell_type": "markdown",
      "source": [
        "### Для чего используются генераторные выражения?\n",
        "\n",
        "В точности как генераторные функции генераторные выражения обеспечивают\n",
        "оптимизацию **расхода памяти** — они не требуют создания сразу всего результирующего списка, что происходит в случае спискового включения в квадратных скобках. \n",
        "\n",
        "Также подобно генераторным функциям они разделяют работу по выпуску результатов на небольшие временные интервалы — результаты выдаются постепенно вместо того, чтобы заставлять вызывающий код ожидать создания полного набора в единственном вызове. \n",
        "\n",
        "С другой стороны, на практике генераторные выражения могут выполняться несколько медленнее списковых включений, а потому их лучше всего применять для очень крупных результирующих наборов или в приложениях, которые не могут ожидать генерации полных результатов.\n",
        "\n",
        "1. Проще синтаксис"
      ],
      "metadata": {
        "id": "uJSG6BkbEBrM"
      }
    },
    {
      "cell_type": "code",
      "source": [
        "print(list(map(abs, (-1, -2, 3, 4)))) # map применяет функцию abs для кортежа\n",
        "\n",
        "print(list(abs(x) for x in (-1, -2, 3, 4))) # ген.выражение применяет функцию abs для кортежа\n",
        "\n",
        "print(list(map(lambda x: x*2, (1, 2, 3, 4)))) # map использует НЕ функцию\n",
        "\n",
        "print(list(x*2 for x in (1, 2, 3, 4))) # ген.выражение использует НЕ функцию"
      ],
      "metadata": {
        "colab": {
          "base_uri": "https://localhost:8080/"
        },
        "id": "iCMrWYjlDo-G",
        "outputId": "87110cf5-a4fd-4bb7-aba6-f9950d8df802"
      },
      "execution_count": null,
      "outputs": [
        {
          "output_type": "stream",
          "name": "stdout",
          "text": [
            "[1, 2, 3, 4]\n",
            "[1, 2, 3, 4]\n",
            "[2, 4, 6, 8]\n",
            "[2, 4, 6, 8]\n"
          ]
        }
      ]
    },
    {
      "cell_type": "markdown",
      "source": [
        "2. Экономия памяти"
      ],
      "metadata": {
        "id": "XjgXWnvwG8_P"
      }
    },
    {
      "cell_type": "code",
      "source": [
        "line = 'aaa,bbb,ссс'\n",
        "print(''.join([х.upper() for х in line.split (',')])) # создание бессмысленного списка \n",
        "\n",
        "print(''.join(х.upper() for х in line.split(','))) # сразу генерируется строка"
      ],
      "metadata": {
        "colab": {
          "base_uri": "https://localhost:8080/"
        },
        "id": "xCoU_Eq0F96x",
        "outputId": "93d9dd42-1546-4cd5-e409-c4511b53da04"
      },
      "execution_count": null,
      "outputs": [
        {
          "output_type": "stream",
          "name": "stdout",
          "text": [
            "AAABBBССС\n",
            "AAABBBССС\n"
          ]
        }
      ]
    },
    {
      "cell_type": "markdown",
      "source": [
        "### Вложенные генераторы\n",
        "\n",
        "Вложенные **списковые включения** создают дополнительные временные списки, расходуя память.\n",
        "\n",
        "Вложенные **функции map** сложнее в представлении кода.\n",
        "\n",
        "Вложенные **генераторные выражения** не формируют временные списки и проще в представлении кода, чем map.\n",
        "\n",
        "\n"
      ],
      "metadata": {
        "id": "KN_jRmx5Ih0V"
      }
    },
    {
      "cell_type": "code",
      "source": [
        "print([х*2 for х in [abs(x) for x in (-1, -2, 3, 4)]]) # Вложенные включения\n",
        "\n",
        "print(list(map(lambda x: x*2, map(abs, (-1, -2, 3, 4))))) # Вложенные map\n",
        "\n",
        "print(list(x*2 for x in (abs(x) for x in (-1, -2, 3, 4)))) # Вложенные генераторы"
      ],
      "metadata": {
        "colab": {
          "base_uri": "https://localhost:8080/"
        },
        "id": "1WdyKD8kHdPJ",
        "outputId": "7282e89a-04bf-4fe1-cfc1-1f22cd23bd05"
      },
      "execution_count": null,
      "outputs": [
        {
          "output_type": "stream",
          "name": "stdout",
          "text": [
            "[2, 4, 6, 8]\n",
            "[2, 4, 6, 8]\n",
            "[2, 4, 6, 8]\n"
          ]
        }
      ]
    },
    {
      "cell_type": "markdown",
      "source": [
        "### Оператор *if*\n",
        "\n",
        "Генераторные выражения также поддерживают весь обычный синтаксис списковых включений, в том числе конструкции *if*, которые работают подобно вызову *filter*. "
      ],
      "metadata": {
        "id": "jekUBVlgOsjO"
      }
    },
    {
      "cell_type": "code",
      "source": [
        "line = 'аа bbb а'\n",
        "print(''.join(x for x in line.split() if len(x) > 1)) # Генератор c конструкцией if\n",
        "\n",
        "print(''.join(filter(lambda x: len(x) > 1, line.split()))) # Подобный вызов filter"
      ],
      "metadata": {
        "colab": {
          "base_uri": "https://localhost:8080/"
        },
        "id": "3NqXyBMLI8PQ",
        "outputId": "03d496b1-b106-4d87-da72-fd36ed1c0043"
      },
      "execution_count": null,
      "outputs": [
        {
          "output_type": "stream",
          "name": "stdout",
          "text": [
            "ааbbb\n",
            "ааbbb\n"
          ]
        }
      ]
    },
    {
      "cell_type": "markdown",
      "source": [
        "# Генераторные функции или генераторные выражения\n"
      ],
      "metadata": {
        "id": "B9UZuUXGTcN1"
      }
    },
    {
      "cell_type": "markdown",
      "source": [
        "### Генераторные функции\n",
        "Определение *def*, содержащее оператор *yield*, превращается в генераторную функцию. При вызове она возвращает новый объект генератора с автоматическим сохранением локальной области видимости и местоположения в коде, автоматически созданным методом *__ iter__*, который просто возвращает сам объект, и автоматически созданным методом *__ next__* (*next* в Python 2.Х), который запускает функцию или возобновляет ее выполнение с места, где она находилась в последний раз, и инициирует исключение *StopIteration*, когда выпуск результатов завершен."
      ],
      "metadata": {
        "id": "ya36BZ4yThLB"
      }
    },
    {
      "cell_type": "markdown",
      "source": [
        "### Генераторные выражения\n",
        "Выражение включения, помещенное в круглые скобки, известно как генераторное выражение. Оно возвращает новый объект генератора с таким же автоматически созданным интерфейсом в виде методов и сохранением состояния, как у генераторной функции, т.е. с методом *__ iter__*, просто возвращающим сам объект, и методом *__ next__* (*next* в Python 2.Х), который запускает неявный цикл или возобновляет его выполнение с места, где он находился в последний раз, и инициирует исключение *StopIteration*, когда выпуск результатов завершен.\n",
        "\n",
        "Совокупным эффектом является выпуск результатов по запросу в итерационных контекстах, которые задействуют такие интерфейсы \n",
        "автоматически.\n",
        "\n",
        "Эквивалетный код:"
      ],
      "metadata": {
        "id": "COyzJbkWWOUn"
      }
    },
    {
      "cell_type": "code",
      "source": [
        "line = 'аа bbb с'\n",
        "\n",
        "print(''.join(x.upper() for x in line.split() if len(x) > 1)) # Выражение\n",
        "\n",
        "def gensub(line): # Функция\n",
        "  for x in line.split():\n",
        "    if len(x) > 1:\n",
        "      yield x.upper()\n",
        "      \n",
        "print(''.join(gensub(line)))"
      ],
      "metadata": {
        "colab": {
          "base_uri": "https://localhost:8080/"
        },
        "id": "bn6RecgaRjZi",
        "outputId": "8baaa6cc-529b-4643-f739-8d8a27103ad2"
      },
      "execution_count": null,
      "outputs": [
        {
          "output_type": "stream",
          "name": "stdout",
          "text": [
            "ААBBB\n",
            "ААBBB\n"
          ]
        }
      ]
    },
    {
      "cell_type": "markdown",
      "source": [
        "## Генераторы являются объектами с одиночной итерацией\n",
        "\n",
        "Тонкий, но важный момент: генераторные функции и генераторные выражения представляют собой итераторы и потому поддерживают только одну активную итерацию — в отличие от ряда встроенных типов нельзя иметь множество итераторов, каждый из которых находится в отличающейся позиции внутри набора результатов.\n",
        "\n",
        "В случае выполнения итерации по потоку результатов с помощью множества итераторов все они будут указывать на ту же самую позицию:"
      ],
      "metadata": {
        "id": "mctGIydgWhGm"
      }
    },
    {
      "cell_type": "code",
      "source": [
        "G = (с*4 for с in 'SPAM') # Создать новый генератор\n",
        "print(next(G))\n",
        "\n",
        "I1 = G.__iter__() # Первый итератор\n",
        "print(next(I1))\n",
        "\n",
        "I2 = G.__iter__() # Второй итератор находится в той же самой позиции!\n",
        "print(next(I2))"
      ],
      "metadata": {
        "colab": {
          "base_uri": "https://localhost:8080/"
        },
        "id": "oSgEAc_ZVd7f",
        "outputId": "e80a738f-ef43-4673-f09d-d75fcb2a14cf"
      },
      "execution_count": null,
      "outputs": [
        {
          "output_type": "stream",
          "name": "stdout",
          "text": [
            "SSSS\n",
            "PPPP\n",
            "AAAA\n"
          ]
        }
      ]
    },
    {
      "cell_type": "markdown",
      "source": [
        "Более того, как только любая итерация доходит до завершения, все результаты\n",
        "оказываются израсходованными — чтобы начать сначала, нам придется создать новый\n",
        "генератор:"
      ],
      "metadata": {
        "id": "L2SkaPrdrb1W"
      }
    },
    {
      "cell_type": "code",
      "source": [
        "print(next(I1)) # Собирает оставшиеся элементы I1\n",
        "print(next(I2)) # Другие итераторы тоже израсходуются"
      ],
      "metadata": {
        "colab": {
          "base_uri": "https://localhost:8080/",
          "height": 201
        },
        "id": "eJIhlLNlXPmi",
        "outputId": "b9e51e0f-b3cc-47f4-faac-67af9e15e2b9"
      },
      "execution_count": null,
      "outputs": [
        {
          "output_type": "stream",
          "name": "stdout",
          "text": [
            "MMMM\n"
          ]
        },
        {
          "output_type": "error",
          "ename": "StopIteration",
          "evalue": "ignored",
          "traceback": [
            "\u001b[0;31m---------------------------------------------------------------------------\u001b[0m",
            "\u001b[0;31mStopIteration\u001b[0m                             Traceback (most recent call last)",
            "\u001b[0;32m<ipython-input-219-86378e74ae29>\u001b[0m in \u001b[0;36m<module>\u001b[0;34m\u001b[0m\n\u001b[1;32m      1\u001b[0m \u001b[0mprint\u001b[0m\u001b[0;34m(\u001b[0m\u001b[0mnext\u001b[0m\u001b[0;34m(\u001b[0m\u001b[0mI1\u001b[0m\u001b[0;34m)\u001b[0m\u001b[0;34m)\u001b[0m \u001b[0;31m# Собирает оставшиеся элементы I1\u001b[0m\u001b[0;34m\u001b[0m\u001b[0;34m\u001b[0m\u001b[0m\n\u001b[0;32m----> 2\u001b[0;31m \u001b[0mprint\u001b[0m\u001b[0;34m(\u001b[0m\u001b[0mnext\u001b[0m\u001b[0;34m(\u001b[0m\u001b[0mI2\u001b[0m\u001b[0;34m)\u001b[0m\u001b[0;34m)\u001b[0m \u001b[0;31m# Другие итераторы тоже израсходуются\u001b[0m\u001b[0;34m\u001b[0m\u001b[0;34m\u001b[0m\u001b[0m\n\u001b[0m",
            "\u001b[0;31mStopIteration\u001b[0m: "
          ]
        }
      ]
    },
    {
      "cell_type": "code",
      "source": [
        "I3 = G.__iter__() # То же самое касается новых итераторов\n",
        "print(next(I3))"
      ],
      "metadata": {
        "colab": {
          "base_uri": "https://localhost:8080/",
          "height": 183
        },
        "id": "1CwtKUznqFQ0",
        "outputId": "7a9026df-89f1-403b-e5d7-7d3b72aac472"
      },
      "execution_count": null,
      "outputs": [
        {
          "output_type": "error",
          "ename": "StopIteration",
          "evalue": "ignored",
          "traceback": [
            "\u001b[0;31m---------------------------------------------------------------------------\u001b[0m",
            "\u001b[0;31mStopIteration\u001b[0m                             Traceback (most recent call last)",
            "\u001b[0;32m<ipython-input-220-c796b8ed8a91>\u001b[0m in \u001b[0;36m<module>\u001b[0;34m\u001b[0m\n\u001b[1;32m      1\u001b[0m \u001b[0mI3\u001b[0m \u001b[0;34m=\u001b[0m \u001b[0mG\u001b[0m\u001b[0;34m.\u001b[0m\u001b[0m__iter__\u001b[0m\u001b[0;34m(\u001b[0m\u001b[0;34m)\u001b[0m \u001b[0;31m# То же самое касается новых итераторов\u001b[0m\u001b[0;34m\u001b[0m\u001b[0;34m\u001b[0m\u001b[0m\n\u001b[0;32m----> 2\u001b[0;31m \u001b[0mprint\u001b[0m\u001b[0;34m(\u001b[0m\u001b[0mnext\u001b[0m\u001b[0;34m(\u001b[0m\u001b[0mI3\u001b[0m\u001b[0;34m)\u001b[0m\u001b[0;34m)\u001b[0m\u001b[0;34m\u001b[0m\u001b[0;34m\u001b[0m\u001b[0m\n\u001b[0m",
            "\u001b[0;31mStopIteration\u001b[0m: "
          ]
        }
      ]
    },
    {
      "cell_type": "code",
      "source": [
        "I3 = (с*4 for с in 'SPAM') # Новый генератор, чтобы начать заново\n",
        "print(next(I3))"
      ],
      "metadata": {
        "colab": {
          "base_uri": "https://localhost:8080/"
        },
        "id": "dU_XDrnUsFew",
        "outputId": "42441b5b-f44d-45b5-82cf-55d68958301b"
      },
      "execution_count": null,
      "outputs": [
        {
          "output_type": "stream",
          "name": "stdout",
          "text": [
            "SSSS\n"
          ]
        }
      ]
    },
    {
      "cell_type": "markdown",
      "source": [
        "# Не злоупотребляйте генераторами\n",
        "\n",
        "Генераторы — довольно сложный инструмент, который возможно лучше трактовать как необязательную тему, если не учитывать тот факт, что они буквально пронизывают язык Python, особенно в линейке Python З.Х.\n",
        "\n",
        "В целом те же самые предостережения, которые давались в отношении списковых включений, применимы и здесь: \n",
        "\n",
        "> Не усложняйте свой код определяемыми пользователем генераторами, когда это неоправданно\n",
        "\n",
        "Веские причины использовать такие инструменты могут отсутствовать, особенно для небольших программ и наборов данных.\n",
        "В подобных ситуациях достаточно будет простых списков результатов, которые легче для понимания, автоматически подвергаются сборке мусора и могут выпускаться\n",
        "быстрее. С такими расширенными инструментами, как генераторы, полагающимся на неявную “магию”, может быть интересно экспериментировать, но им не место в реальном коде, который должен применяться другими, кроме случаев, когда это явно оправданно.\n",
        "\n",
        "Или прибегнем к девизам, выводимым *import this*: \n",
        "\n",
        "> Явное лучше неявного\n",
        "\n",
        "\n",
        "\n"
      ],
      "metadata": {
        "id": "ASesN5uSyOVR"
      }
    },
    {
      "cell_type": "code",
      "source": [
        "import this"
      ],
      "metadata": {
        "id": "w-sDIZl_ydSk"
      },
      "execution_count": null,
      "outputs": []
    },
    {
      "cell_type": "markdown",
      "source": [
        "Чем более явно код сообщает о своем поведении, тем более вероятно, что следующий программист сумеет его понять. Сказанное напрямую касается генераторов, чье неявное поведение вполне может оказаться трудным для понимания, нежели более ясные альтернативы. \n",
        "\n",
        "> Всегда сохраняйте код простым, если только он не обязан быть сложным!"
      ],
      "metadata": {
        "id": "QChYC7jX2eX3"
      }
    }
  ]
}